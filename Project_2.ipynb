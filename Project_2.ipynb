{
 "cells": [
  {
   "cell_type": "markdown",
   "metadata": {},
   "source": [
    "## Predicting Players ratings\n",
    "\n",
    "In this project you are going to predict the overall rating of soccer player based on their attributes\n",
    "such as 'crossing', 'finishing etc."
   ]
  },
  {
   "cell_type": "markdown",
   "metadata": {},
   "source": [
    "### Data Collection\n"
   ]
  },
  {
   "cell_type": "code",
   "execution_count": 1,
   "metadata": {},
   "outputs": [],
   "source": [
    "import sqlite3\n",
    "import pandas as pd\n",
    "import numpy as np\n",
    "from sklearn.linear_model import LinearRegression\n",
    "from sklearn.model_selection import train_test_split\n",
    "from sklearn.metrics import mean_squared_error\n",
    "from math import sqrt\n",
    "import matplotlib.pyplot as plt\n",
    "import matplotlib.lines as mlines\n",
    "import matplotlib.transforms as mtransforms\n",
    "import seaborn as sns"
   ]
  },
  {
   "cell_type": "code",
   "execution_count": 2,
   "metadata": {},
   "outputs": [],
   "source": [
    "#creating the connection\n",
    "conn = sqlite3.connect('soccer.sqlite')\n",
    "c=conn.cursor()\n",
    "df=pd.read_sql_query(\"SELECT * FROM Player_Attributes\", conn)"
   ]
  },
  {
   "cell_type": "code",
   "execution_count": 3,
   "metadata": {},
   "outputs": [
    {
     "data": {
      "text/html": [
       "<div>\n",
       "<style scoped>\n",
       "    .dataframe tbody tr th:only-of-type {\n",
       "        vertical-align: middle;\n",
       "    }\n",
       "\n",
       "    .dataframe tbody tr th {\n",
       "        vertical-align: top;\n",
       "    }\n",
       "\n",
       "    .dataframe thead th {\n",
       "        text-align: right;\n",
       "    }\n",
       "</style>\n",
       "<table border=\"1\" class=\"dataframe\">\n",
       "  <thead>\n",
       "    <tr style=\"text-align: right;\">\n",
       "      <th></th>\n",
       "      <th>id</th>\n",
       "      <th>player_fifa_api_id</th>\n",
       "      <th>player_api_id</th>\n",
       "      <th>date</th>\n",
       "      <th>overall_rating</th>\n",
       "      <th>potential</th>\n",
       "      <th>preferred_foot</th>\n",
       "      <th>attacking_work_rate</th>\n",
       "      <th>defensive_work_rate</th>\n",
       "      <th>crossing</th>\n",
       "      <th>...</th>\n",
       "      <th>vision</th>\n",
       "      <th>penalties</th>\n",
       "      <th>marking</th>\n",
       "      <th>standing_tackle</th>\n",
       "      <th>sliding_tackle</th>\n",
       "      <th>gk_diving</th>\n",
       "      <th>gk_handling</th>\n",
       "      <th>gk_kicking</th>\n",
       "      <th>gk_positioning</th>\n",
       "      <th>gk_reflexes</th>\n",
       "    </tr>\n",
       "  </thead>\n",
       "  <tbody>\n",
       "    <tr>\n",
       "      <th>0</th>\n",
       "      <td>1</td>\n",
       "      <td>218353</td>\n",
       "      <td>505942</td>\n",
       "      <td>2016-02-18 00:00:00</td>\n",
       "      <td>67.0</td>\n",
       "      <td>71.0</td>\n",
       "      <td>right</td>\n",
       "      <td>medium</td>\n",
       "      <td>medium</td>\n",
       "      <td>49.0</td>\n",
       "      <td>...</td>\n",
       "      <td>54.0</td>\n",
       "      <td>48.0</td>\n",
       "      <td>65.0</td>\n",
       "      <td>69.0</td>\n",
       "      <td>69.0</td>\n",
       "      <td>6.0</td>\n",
       "      <td>11.0</td>\n",
       "      <td>10.0</td>\n",
       "      <td>8.0</td>\n",
       "      <td>8.0</td>\n",
       "    </tr>\n",
       "    <tr>\n",
       "      <th>1</th>\n",
       "      <td>2</td>\n",
       "      <td>218353</td>\n",
       "      <td>505942</td>\n",
       "      <td>2015-11-19 00:00:00</td>\n",
       "      <td>67.0</td>\n",
       "      <td>71.0</td>\n",
       "      <td>right</td>\n",
       "      <td>medium</td>\n",
       "      <td>medium</td>\n",
       "      <td>49.0</td>\n",
       "      <td>...</td>\n",
       "      <td>54.0</td>\n",
       "      <td>48.0</td>\n",
       "      <td>65.0</td>\n",
       "      <td>69.0</td>\n",
       "      <td>69.0</td>\n",
       "      <td>6.0</td>\n",
       "      <td>11.0</td>\n",
       "      <td>10.0</td>\n",
       "      <td>8.0</td>\n",
       "      <td>8.0</td>\n",
       "    </tr>\n",
       "    <tr>\n",
       "      <th>2</th>\n",
       "      <td>3</td>\n",
       "      <td>218353</td>\n",
       "      <td>505942</td>\n",
       "      <td>2015-09-21 00:00:00</td>\n",
       "      <td>62.0</td>\n",
       "      <td>66.0</td>\n",
       "      <td>right</td>\n",
       "      <td>medium</td>\n",
       "      <td>medium</td>\n",
       "      <td>49.0</td>\n",
       "      <td>...</td>\n",
       "      <td>54.0</td>\n",
       "      <td>48.0</td>\n",
       "      <td>65.0</td>\n",
       "      <td>66.0</td>\n",
       "      <td>69.0</td>\n",
       "      <td>6.0</td>\n",
       "      <td>11.0</td>\n",
       "      <td>10.0</td>\n",
       "      <td>8.0</td>\n",
       "      <td>8.0</td>\n",
       "    </tr>\n",
       "    <tr>\n",
       "      <th>3</th>\n",
       "      <td>4</td>\n",
       "      <td>218353</td>\n",
       "      <td>505942</td>\n",
       "      <td>2015-03-20 00:00:00</td>\n",
       "      <td>61.0</td>\n",
       "      <td>65.0</td>\n",
       "      <td>right</td>\n",
       "      <td>medium</td>\n",
       "      <td>medium</td>\n",
       "      <td>48.0</td>\n",
       "      <td>...</td>\n",
       "      <td>53.0</td>\n",
       "      <td>47.0</td>\n",
       "      <td>62.0</td>\n",
       "      <td>63.0</td>\n",
       "      <td>66.0</td>\n",
       "      <td>5.0</td>\n",
       "      <td>10.0</td>\n",
       "      <td>9.0</td>\n",
       "      <td>7.0</td>\n",
       "      <td>7.0</td>\n",
       "    </tr>\n",
       "    <tr>\n",
       "      <th>4</th>\n",
       "      <td>5</td>\n",
       "      <td>218353</td>\n",
       "      <td>505942</td>\n",
       "      <td>2007-02-22 00:00:00</td>\n",
       "      <td>61.0</td>\n",
       "      <td>65.0</td>\n",
       "      <td>right</td>\n",
       "      <td>medium</td>\n",
       "      <td>medium</td>\n",
       "      <td>48.0</td>\n",
       "      <td>...</td>\n",
       "      <td>53.0</td>\n",
       "      <td>47.0</td>\n",
       "      <td>62.0</td>\n",
       "      <td>63.0</td>\n",
       "      <td>66.0</td>\n",
       "      <td>5.0</td>\n",
       "      <td>10.0</td>\n",
       "      <td>9.0</td>\n",
       "      <td>7.0</td>\n",
       "      <td>7.0</td>\n",
       "    </tr>\n",
       "  </tbody>\n",
       "</table>\n",
       "<p>5 rows × 42 columns</p>\n",
       "</div>"
      ],
      "text/plain": [
       "   id  player_fifa_api_id  player_api_id                 date  overall_rating  \\\n",
       "0   1              218353         505942  2016-02-18 00:00:00            67.0   \n",
       "1   2              218353         505942  2015-11-19 00:00:00            67.0   \n",
       "2   3              218353         505942  2015-09-21 00:00:00            62.0   \n",
       "3   4              218353         505942  2015-03-20 00:00:00            61.0   \n",
       "4   5              218353         505942  2007-02-22 00:00:00            61.0   \n",
       "\n",
       "   potential preferred_foot attacking_work_rate defensive_work_rate  crossing  \\\n",
       "0       71.0          right              medium              medium      49.0   \n",
       "1       71.0          right              medium              medium      49.0   \n",
       "2       66.0          right              medium              medium      49.0   \n",
       "3       65.0          right              medium              medium      48.0   \n",
       "4       65.0          right              medium              medium      48.0   \n",
       "\n",
       "      ...       vision  penalties  marking  standing_tackle  sliding_tackle  \\\n",
       "0     ...         54.0       48.0     65.0             69.0            69.0   \n",
       "1     ...         54.0       48.0     65.0             69.0            69.0   \n",
       "2     ...         54.0       48.0     65.0             66.0            69.0   \n",
       "3     ...         53.0       47.0     62.0             63.0            66.0   \n",
       "4     ...         53.0       47.0     62.0             63.0            66.0   \n",
       "\n",
       "   gk_diving  gk_handling  gk_kicking  gk_positioning  gk_reflexes  \n",
       "0        6.0         11.0        10.0             8.0          8.0  \n",
       "1        6.0         11.0        10.0             8.0          8.0  \n",
       "2        6.0         11.0        10.0             8.0          8.0  \n",
       "3        5.0         10.0         9.0             7.0          7.0  \n",
       "4        5.0         10.0         9.0             7.0          7.0  \n",
       "\n",
       "[5 rows x 42 columns]"
      ]
     },
     "execution_count": 3,
     "metadata": {},
     "output_type": "execute_result"
    }
   ],
   "source": [
    "#looking at the data at hand\n",
    "df.head()"
   ]
  },
  {
   "cell_type": "markdown",
   "metadata": {},
   "source": [
    "the only columns that have non-numerical values are: preferred_foot, attacking_work_rate, defensive_work_rate."
   ]
  },
  {
   "cell_type": "markdown",
   "metadata": {},
   "source": [
    "### Basic Analysis of Data"
   ]
  },
  {
   "cell_type": "code",
   "execution_count": 4,
   "metadata": {},
   "outputs": [
    {
     "name": "stdout",
     "output_type": "stream",
     "text": [
      "<class 'pandas.core.frame.DataFrame'>\n",
      "RangeIndex: 183978 entries, 0 to 183977\n",
      "Data columns (total 42 columns):\n",
      "id                     183978 non-null int64\n",
      "player_fifa_api_id     183978 non-null int64\n",
      "player_api_id          183978 non-null int64\n",
      "date                   183978 non-null object\n",
      "overall_rating         183142 non-null float64\n",
      "potential              183142 non-null float64\n",
      "preferred_foot         183142 non-null object\n",
      "attacking_work_rate    180748 non-null object\n",
      "defensive_work_rate    183142 non-null object\n",
      "crossing               183142 non-null float64\n",
      "finishing              183142 non-null float64\n",
      "heading_accuracy       183142 non-null float64\n",
      "short_passing          183142 non-null float64\n",
      "volleys                181265 non-null float64\n",
      "dribbling              183142 non-null float64\n",
      "curve                  181265 non-null float64\n",
      "free_kick_accuracy     183142 non-null float64\n",
      "long_passing           183142 non-null float64\n",
      "ball_control           183142 non-null float64\n",
      "acceleration           183142 non-null float64\n",
      "sprint_speed           183142 non-null float64\n",
      "agility                181265 non-null float64\n",
      "reactions              183142 non-null float64\n",
      "balance                181265 non-null float64\n",
      "shot_power             183142 non-null float64\n",
      "jumping                181265 non-null float64\n",
      "stamina                183142 non-null float64\n",
      "strength               183142 non-null float64\n",
      "long_shots             183142 non-null float64\n",
      "aggression             183142 non-null float64\n",
      "interceptions          183142 non-null float64\n",
      "positioning            183142 non-null float64\n",
      "vision                 181265 non-null float64\n",
      "penalties              183142 non-null float64\n",
      "marking                183142 non-null float64\n",
      "standing_tackle        183142 non-null float64\n",
      "sliding_tackle         181265 non-null float64\n",
      "gk_diving              183142 non-null float64\n",
      "gk_handling            183142 non-null float64\n",
      "gk_kicking             183142 non-null float64\n",
      "gk_positioning         183142 non-null float64\n",
      "gk_reflexes            183142 non-null float64\n",
      "dtypes: float64(35), int64(3), object(4)\n",
      "memory usage: 59.0+ MB\n"
     ]
    }
   ],
   "source": [
    "df.info()"
   ]
  },
  {
   "cell_type": "code",
   "execution_count": 5,
   "metadata": {},
   "outputs": [
    {
     "data": {
      "text/plain": [
       "Index(['id', 'player_fifa_api_id', 'player_api_id', 'date', 'overall_rating',\n",
       "       'potential', 'preferred_foot', 'attacking_work_rate',\n",
       "       'defensive_work_rate', 'crossing', 'finishing', 'heading_accuracy',\n",
       "       'short_passing', 'volleys', 'dribbling', 'curve', 'free_kick_accuracy',\n",
       "       'long_passing', 'ball_control', 'acceleration', 'sprint_speed',\n",
       "       'agility', 'reactions', 'balance', 'shot_power', 'jumping', 'stamina',\n",
       "       'strength', 'long_shots', 'aggression', 'interceptions', 'positioning',\n",
       "       'vision', 'penalties', 'marking', 'standing_tackle', 'sliding_tackle',\n",
       "       'gk_diving', 'gk_handling', 'gk_kicking', 'gk_positioning',\n",
       "       'gk_reflexes'],\n",
       "      dtype='object')"
      ]
     },
     "execution_count": 5,
     "metadata": {},
     "output_type": "execute_result"
    }
   ],
   "source": [
    "df.columns"
   ]
  },
  {
   "cell_type": "markdown",
   "metadata": {},
   "source": [
    "### Data Wrangling"
   ]
  },
  {
   "cell_type": "code",
   "execution_count": 6,
   "metadata": {},
   "outputs": [
    {
     "data": {
      "text/plain": [
       "id                     False\n",
       "player_fifa_api_id     False\n",
       "player_api_id          False\n",
       "date                   False\n",
       "overall_rating          True\n",
       "potential               True\n",
       "preferred_foot          True\n",
       "attacking_work_rate     True\n",
       "defensive_work_rate     True\n",
       "crossing                True\n",
       "finishing               True\n",
       "heading_accuracy        True\n",
       "short_passing           True\n",
       "volleys                 True\n",
       "dribbling               True\n",
       "curve                   True\n",
       "free_kick_accuracy      True\n",
       "long_passing            True\n",
       "ball_control            True\n",
       "acceleration            True\n",
       "sprint_speed            True\n",
       "agility                 True\n",
       "reactions               True\n",
       "balance                 True\n",
       "shot_power              True\n",
       "jumping                 True\n",
       "stamina                 True\n",
       "strength                True\n",
       "long_shots              True\n",
       "aggression              True\n",
       "interceptions           True\n",
       "positioning             True\n",
       "vision                  True\n",
       "penalties               True\n",
       "marking                 True\n",
       "standing_tackle         True\n",
       "sliding_tackle          True\n",
       "gk_diving               True\n",
       "gk_handling             True\n",
       "gk_kicking              True\n",
       "gk_positioning          True\n",
       "gk_reflexes             True\n",
       "dtype: bool"
      ]
     },
     "execution_count": 6,
     "metadata": {},
     "output_type": "execute_result"
    }
   ],
   "source": [
    "#handle missing data\n",
    "df.isnull().any()"
   ]
  },
  {
   "cell_type": "code",
   "execution_count": 7,
   "metadata": {},
   "outputs": [
    {
     "data": {
      "text/plain": [
       "(183978, 42)"
      ]
     },
     "execution_count": 7,
     "metadata": {},
     "output_type": "execute_result"
    }
   ],
   "source": [
    "df.shape"
   ]
  },
  {
   "cell_type": "code",
   "execution_count": 8,
   "metadata": {},
   "outputs": [
    {
     "data": {
      "text/plain": [
       "id                        0\n",
       "player_fifa_api_id        0\n",
       "player_api_id             0\n",
       "date                      0\n",
       "overall_rating          836\n",
       "potential               836\n",
       "preferred_foot          836\n",
       "attacking_work_rate    3230\n",
       "defensive_work_rate     836\n",
       "crossing                836\n",
       "finishing               836\n",
       "heading_accuracy        836\n",
       "short_passing           836\n",
       "volleys                2713\n",
       "dribbling               836\n",
       "curve                  2713\n",
       "free_kick_accuracy      836\n",
       "long_passing            836\n",
       "ball_control            836\n",
       "acceleration            836\n",
       "sprint_speed            836\n",
       "agility                2713\n",
       "reactions               836\n",
       "balance                2713\n",
       "shot_power              836\n",
       "jumping                2713\n",
       "stamina                 836\n",
       "strength                836\n",
       "long_shots              836\n",
       "aggression              836\n",
       "interceptions           836\n",
       "positioning             836\n",
       "vision                 2713\n",
       "penalties               836\n",
       "marking                 836\n",
       "standing_tackle         836\n",
       "sliding_tackle         2713\n",
       "gk_diving               836\n",
       "gk_handling             836\n",
       "gk_kicking              836\n",
       "gk_positioning          836\n",
       "gk_reflexes             836\n",
       "dtype: int64"
      ]
     },
     "execution_count": 8,
     "metadata": {},
     "output_type": "execute_result"
    }
   ],
   "source": [
    "#how many data points are missing in each column?\n",
    "df.isnull().sum(axis=0)"
   ]
  },
  {
   "cell_type": "code",
   "execution_count": 9,
   "metadata": {},
   "outputs": [
    {
     "data": {
      "text/plain": [
       "<matplotlib.axes._subplots.AxesSubplot at 0x21f47a922e8>"
      ]
     },
     "execution_count": 9,
     "metadata": {},
     "output_type": "execute_result"
    },
    {
     "data": {
      "image/png": "[encoded data removed]",
      "text/plain": [
       "<matplotlib.figure.Figure at 0x21f4e7fe7f0>"
      ]
     },
     "metadata": {},
     "output_type": "display_data"
    }
   ],
   "source": [
    "sns.heatmap(df.isnull(), yticklabels=False, cbar=False)"
   ]
  },
  {
   "cell_type": "code",
   "execution_count": 10,
   "metadata": {},
   "outputs": [],
   "source": [
    "#drop any rows with missing data\n",
    "df=df.dropna()"
   ]
  },
  {
   "cell_type": "code",
   "execution_count": 11,
   "metadata": {},
   "outputs": [
    {
     "data": {
      "text/plain": [
       "180354"
      ]
     },
     "execution_count": 11,
     "metadata": {},
     "output_type": "execute_result"
    }
   ],
   "source": [
    "df.shape[0]"
   ]
  },
  {
   "cell_type": "markdown",
   "metadata": {},
   "source": [
    "### Handling missing data \n",
    "since it is not said how data went missing it is safe to assume in this case that they are Missing at Random (MAR), or Missing Completely at Random (MCAR). Therefore one way to handle the data is by removing any missing data in order to properly analyze the data at hand.This will be done by Deleting the rows. As you can see there is less than 2% of missing values of the data, therefore I will follow through and delete the missing data.  "
   ]
  },
  {
   "cell_type": "code",
   "execution_count": 12,
   "metadata": {},
   "outputs": [
    {
     "data": {
      "text/plain": [
       "False"
      ]
     },
     "execution_count": 12,
     "metadata": {},
     "output_type": "execute_result"
    }
   ],
   "source": [
    "df.isnull().sum(axis=0).any().any()"
   ]
  },
  {
   "cell_type": "code",
   "execution_count": 13,
   "metadata": {},
   "outputs": [],
   "source": [
    "# defining the features\n",
    "feature_columns=['crossing', 'finishing', 'heading_accuracy',\n",
    "                 'short_passing', 'volleys', 'dribbling', 'curve', 'free_kick_accuracy',\n",
    "                 'long_passing', 'ball_control', 'acceleration', 'sprint_speed',\n",
    "                 'agility', 'reactions', 'balance', 'shot_power', 'jumping', 'stamina',\n",
    "                 'strength', 'long_shots', 'aggression', 'interceptions', 'positioning',\n",
    "                 'vision', 'penalties', 'marking', 'standing_tackle', 'sliding_tackle',\n",
    "                 'gk_diving', 'gk_handling', 'gk_kicking', 'gk_positioning',\n",
    "                 'gk_reflexes','potential']\n",
    "data = df[feature_columns]"
   ]
  },
  {
   "cell_type": "code",
   "execution_count": 14,
   "metadata": {},
   "outputs": [
    {
     "data": {
      "text/html": [
       "<div>\n",
       "<style scoped>\n",
       "    .dataframe tbody tr th:only-of-type {\n",
       "        vertical-align: middle;\n",
       "    }\n",
       "\n",
       "    .dataframe tbody tr th {\n",
       "        vertical-align: top;\n",
       "    }\n",
       "\n",
       "    .dataframe thead th {\n",
       "        text-align: right;\n",
       "    }\n",
       "</style>\n",
       "<table border=\"1\" class=\"dataframe\">\n",
       "  <thead>\n",
       "    <tr style=\"text-align: right;\">\n",
       "      <th></th>\n",
       "      <th>crossing</th>\n",
       "      <th>finishing</th>\n",
       "      <th>heading_accuracy</th>\n",
       "      <th>short_passing</th>\n",
       "      <th>volleys</th>\n",
       "      <th>dribbling</th>\n",
       "      <th>curve</th>\n",
       "      <th>free_kick_accuracy</th>\n",
       "      <th>long_passing</th>\n",
       "      <th>ball_control</th>\n",
       "      <th>...</th>\n",
       "      <th>penalties</th>\n",
       "      <th>marking</th>\n",
       "      <th>standing_tackle</th>\n",
       "      <th>sliding_tackle</th>\n",
       "      <th>gk_diving</th>\n",
       "      <th>gk_handling</th>\n",
       "      <th>gk_kicking</th>\n",
       "      <th>gk_positioning</th>\n",
       "      <th>gk_reflexes</th>\n",
       "      <th>potential</th>\n",
       "    </tr>\n",
       "  </thead>\n",
       "  <tbody>\n",
       "    <tr>\n",
       "      <th>0</th>\n",
       "      <td>49.0</td>\n",
       "      <td>44.0</td>\n",
       "      <td>71.0</td>\n",
       "      <td>61.0</td>\n",
       "      <td>44.0</td>\n",
       "      <td>51.0</td>\n",
       "      <td>45.0</td>\n",
       "      <td>39.0</td>\n",
       "      <td>64.0</td>\n",
       "      <td>49.0</td>\n",
       "      <td>...</td>\n",
       "      <td>48.0</td>\n",
       "      <td>65.0</td>\n",
       "      <td>69.0</td>\n",
       "      <td>69.0</td>\n",
       "      <td>6.0</td>\n",
       "      <td>11.0</td>\n",
       "      <td>10.0</td>\n",
       "      <td>8.0</td>\n",
       "      <td>8.0</td>\n",
       "      <td>71.0</td>\n",
       "    </tr>\n",
       "    <tr>\n",
       "      <th>1</th>\n",
       "      <td>49.0</td>\n",
       "      <td>44.0</td>\n",
       "      <td>71.0</td>\n",
       "      <td>61.0</td>\n",
       "      <td>44.0</td>\n",
       "      <td>51.0</td>\n",
       "      <td>45.0</td>\n",
       "      <td>39.0</td>\n",
       "      <td>64.0</td>\n",
       "      <td>49.0</td>\n",
       "      <td>...</td>\n",
       "      <td>48.0</td>\n",
       "      <td>65.0</td>\n",
       "      <td>69.0</td>\n",
       "      <td>69.0</td>\n",
       "      <td>6.0</td>\n",
       "      <td>11.0</td>\n",
       "      <td>10.0</td>\n",
       "      <td>8.0</td>\n",
       "      <td>8.0</td>\n",
       "      <td>71.0</td>\n",
       "    </tr>\n",
       "    <tr>\n",
       "      <th>2</th>\n",
       "      <td>49.0</td>\n",
       "      <td>44.0</td>\n",
       "      <td>71.0</td>\n",
       "      <td>61.0</td>\n",
       "      <td>44.0</td>\n",
       "      <td>51.0</td>\n",
       "      <td>45.0</td>\n",
       "      <td>39.0</td>\n",
       "      <td>64.0</td>\n",
       "      <td>49.0</td>\n",
       "      <td>...</td>\n",
       "      <td>48.0</td>\n",
       "      <td>65.0</td>\n",
       "      <td>66.0</td>\n",
       "      <td>69.0</td>\n",
       "      <td>6.0</td>\n",
       "      <td>11.0</td>\n",
       "      <td>10.0</td>\n",
       "      <td>8.0</td>\n",
       "      <td>8.0</td>\n",
       "      <td>66.0</td>\n",
       "    </tr>\n",
       "    <tr>\n",
       "      <th>3</th>\n",
       "      <td>48.0</td>\n",
       "      <td>43.0</td>\n",
       "      <td>70.0</td>\n",
       "      <td>60.0</td>\n",
       "      <td>43.0</td>\n",
       "      <td>50.0</td>\n",
       "      <td>44.0</td>\n",
       "      <td>38.0</td>\n",
       "      <td>63.0</td>\n",
       "      <td>48.0</td>\n",
       "      <td>...</td>\n",
       "      <td>47.0</td>\n",
       "      <td>62.0</td>\n",
       "      <td>63.0</td>\n",
       "      <td>66.0</td>\n",
       "      <td>5.0</td>\n",
       "      <td>10.0</td>\n",
       "      <td>9.0</td>\n",
       "      <td>7.0</td>\n",
       "      <td>7.0</td>\n",
       "      <td>65.0</td>\n",
       "    </tr>\n",
       "    <tr>\n",
       "      <th>4</th>\n",
       "      <td>48.0</td>\n",
       "      <td>43.0</td>\n",
       "      <td>70.0</td>\n",
       "      <td>60.0</td>\n",
       "      <td>43.0</td>\n",
       "      <td>50.0</td>\n",
       "      <td>44.0</td>\n",
       "      <td>38.0</td>\n",
       "      <td>63.0</td>\n",
       "      <td>48.0</td>\n",
       "      <td>...</td>\n",
       "      <td>47.0</td>\n",
       "      <td>62.0</td>\n",
       "      <td>63.0</td>\n",
       "      <td>66.0</td>\n",
       "      <td>5.0</td>\n",
       "      <td>10.0</td>\n",
       "      <td>9.0</td>\n",
       "      <td>7.0</td>\n",
       "      <td>7.0</td>\n",
       "      <td>65.0</td>\n",
       "    </tr>\n",
       "  </tbody>\n",
       "</table>\n",
       "<p>5 rows × 34 columns</p>\n",
       "</div>"
      ],
      "text/plain": [
       "   crossing  finishing  heading_accuracy  short_passing  volleys  dribbling  \\\n",
       "0      49.0       44.0              71.0           61.0     44.0       51.0   \n",
       "1      49.0       44.0              71.0           61.0     44.0       51.0   \n",
       "2      49.0       44.0              71.0           61.0     44.0       51.0   \n",
       "3      48.0       43.0              70.0           60.0     43.0       50.0   \n",
       "4      48.0       43.0              70.0           60.0     43.0       50.0   \n",
       "\n",
       "   curve  free_kick_accuracy  long_passing  ball_control    ...      \\\n",
       "0   45.0                39.0          64.0          49.0    ...       \n",
       "1   45.0                39.0          64.0          49.0    ...       \n",
       "2   45.0                39.0          64.0          49.0    ...       \n",
       "3   44.0                38.0          63.0          48.0    ...       \n",
       "4   44.0                38.0          63.0          48.0    ...       \n",
       "\n",
       "   penalties  marking  standing_tackle  sliding_tackle  gk_diving  \\\n",
       "0       48.0     65.0             69.0            69.0        6.0   \n",
       "1       48.0     65.0             69.0            69.0        6.0   \n",
       "2       48.0     65.0             66.0            69.0        6.0   \n",
       "3       47.0     62.0             63.0            66.0        5.0   \n",
       "4       47.0     62.0             63.0            66.0        5.0   \n",
       "\n",
       "   gk_handling  gk_kicking  gk_positioning  gk_reflexes  potential  \n",
       "0         11.0        10.0             8.0          8.0       71.0  \n",
       "1         11.0        10.0             8.0          8.0       71.0  \n",
       "2         11.0        10.0             8.0          8.0       66.0  \n",
       "3         10.0         9.0             7.0          7.0       65.0  \n",
       "4         10.0         9.0             7.0          7.0       65.0  \n",
       "\n",
       "[5 rows x 34 columns]"
      ]
     },
     "execution_count": 14,
     "metadata": {},
     "output_type": "execute_result"
    }
   ],
   "source": [
    "data.head()"
   ]
  },
  {
   "cell_type": "code",
   "execution_count": 15,
   "metadata": {},
   "outputs": [],
   "source": [
    "#need to define the independent and dependent variable\n",
    "X=df[feature_columns]     # features are the independent variables that determine the players rating(dependent variable)\n",
    "y=df['overall_rating']"
   ]
  },
  {
   "cell_type": "code",
   "execution_count": 16,
   "metadata": {},
   "outputs": [
    {
     "data": {
      "text/plain": [
       "0    67.0\n",
       "1    67.0\n",
       "2    62.0\n",
       "3    61.0\n",
       "4    61.0\n",
       "Name: overall_rating, dtype: float64"
      ]
     },
     "execution_count": 16,
     "metadata": {},
     "output_type": "execute_result"
    }
   ],
   "source": [
    "y.head()"
   ]
  },
  {
   "cell_type": "code",
   "execution_count": 17,
   "metadata": {},
   "outputs": [
    {
     "name": "stdout",
     "output_type": "stream",
     "text": [
      "crossing: 0.357320\n",
      "finishing: 0.330079\n",
      "heading_accuracy: 0.313324\n",
      "short_passing: 0.458243\n",
      "volleys: 0.361739\n",
      "dribbling: 0.354191\n",
      "curve: 0.357566\n",
      "free_kick_accuracy: 0.349800\n",
      "long_passing: 0.434525\n",
      "ball_control: 0.443991\n",
      "acceleration: 0.243998\n",
      "sprint_speed: 0.253048\n",
      "agility: 0.239963\n",
      "reactions: 0.771856\n",
      "balance: 0.160211\n",
      "shot_power: 0.428053\n",
      "jumping: 0.258978\n",
      "stamina: 0.325606\n",
      "strength: 0.315684\n",
      "long_shots: 0.392668\n",
      "aggression: 0.322782\n",
      "interceptions: 0.249094\n",
      "positioning: 0.368978\n",
      "vision: 0.431493\n",
      "penalties: 0.392715\n",
      "marking: 0.132185\n",
      "standing_tackle: 0.163986\n",
      "sliding_tackle: 0.128054\n",
      "gk_diving: 0.027675\n",
      "gk_handling: 0.006717\n",
      "gk_kicking: 0.028799\n",
      "gk_positioning: 0.008029\n",
      "gk_reflexes: 0.007804\n",
      "potential: 0.765435\n"
     ]
    }
   ],
   "source": [
    "# need to check the correlation with the independent and dependent variables\n",
    "for f in feature_columns:\n",
    "    related = y.corr(X[f])      #Pearson correlation is being used\n",
    "    print(\"%s: %f\" %(f,related))"
   ]
  },
  {
   "cell_type": "markdown",
   "metadata": {},
   "source": [
    "When looking at correlation between the independent and dependent variable keep in mind that the closer \"p\" is to s, the more an increase in one variable will associate with the other. If X and Y are independent of each other \"p\" will be closer to 0. \n",
    "\n",
    "The above analysis showed the highest correlation to the overall_rating was potnetial, reactions, short_passing, ball_control, and vision "
   ]
  },
  {
   "cell_type": "code",
   "execution_count": 19,
   "metadata": {},
   "outputs": [],
   "source": [
    "#plotting the graph using matplotlib library\n",
    "def plot_dataframe(X, y_label):  \n",
    "    color='blue'\n",
    "    fig = plt.gcf()\n",
    "    fig.set_size_inches(20, 10)\n",
    "    plt.ylabel(y_label)\n",
    "\n",
    "    ax = plotDf.correlation.plot(linewidth=3.3, color=color)\n",
    "    ax.set_xticks(plotDf.index)\n",
    "    ax.set_xticklabels(plotDf.attributes, rotation=75); \n",
    "    plt.show()"
   ]
  },
  {
   "cell_type": "code",
   "execution_count": 20,
   "metadata": {},
   "outputs": [],
   "source": [
    "correlations=[y.corr(X[f]) for f in feature_columns]"
   ]
  },
  {
   "cell_type": "code",
   "execution_count": 21,
   "metadata": {},
   "outputs": [],
   "source": [
    "plotDf=pd.DataFrame({'attributes':feature_columns, 'correlation': correlations})"
   ]
  },
  {
   "cell_type": "code",
   "execution_count": 22,
   "metadata": {},
   "outputs": [
    {
     "data": {
      "image/png": "[encoded data removed]",
      "text/plain": [
       "<matplotlib.figure.Figure at 0x21f48888160>"
      ]
     },
     "metadata": {},
     "output_type": "display_data"
    }
   ],
   "source": [
    "#plot the graph\n",
    "plot_dataframe(plotDf, 'Player\\'s Overall Rating')"
   ]
  },
  {
   "cell_type": "code",
   "execution_count": 23,
   "metadata": {},
   "outputs": [],
   "source": [
    "#splitting the data sets into training vs testing\n",
    "X_train,X_test,y_train,y_test = train_test_split(X,y, test_size = 0.2, random_state = 0) "
   ]
  },
  {
   "cell_type": "code",
   "execution_count": 24,
   "metadata": {},
   "outputs": [],
   "source": [
    "#standardize all the values in the features in order to use linear regression\n",
    "from sklearn.preprocessing import StandardScaler\n",
    "sc=StandardScaler()\n",
    "X_train=sc.fit_transform(X_train)\n",
    "X_test =sc.transform(X_test)"
   ]
  },
  {
   "cell_type": "code",
   "execution_count": 25,
   "metadata": {},
   "outputs": [
    {
     "data": {
      "text/plain": [
       "LinearRegression(copy_X=True, fit_intercept=True, n_jobs=1, normalize=False)"
      ]
     },
     "execution_count": 25,
     "metadata": {},
     "output_type": "execute_result"
    }
   ],
   "source": [
    "#fitting multiple linear regression to the training set\n",
    "regressor = LinearRegression()\n",
    "regressor.fit(X_train, y_train)"
   ]
  },
  {
   "cell_type": "code",
   "execution_count": 26,
   "metadata": {},
   "outputs": [],
   "source": [
    "#predicting the test set results\n",
    "y_predict = regressor.predict(X_test)"
   ]
  },
  {
   "cell_type": "code",
   "execution_count": 27,
   "metadata": {},
   "outputs": [
    {
     "name": "stdout",
     "output_type": "stream",
     "text": [
      "Coefficients: \n",
      " [ 0.39456648  0.23959378  1.14438902  0.71600175  0.074594   -0.23140155\n",
      "  0.2110157   0.22249867  0.10649741  2.04001039  0.08110143  0.11343461\n",
      " -0.11042355  1.92369046  0.09982439  0.26208816  0.17700792 -0.07098131\n",
      "  0.74197141 -0.24141387  0.33581266  0.24030081 -0.20096862 -0.03320184\n",
      "  0.22063513  0.68113393  0.06984685 -0.6104115   2.77988134  0.53312903\n",
      " -0.71230568  0.90318142  0.38027803  2.48961902]\n"
     ]
    }
   ],
   "source": [
    "print('Coefficients: \\n',regressor.coef_)"
   ]
  },
  {
   "cell_type": "markdown",
   "metadata": {},
   "source": [
    "Note: Positive coefficients shows that as the value of the independent variable increases the mean of the dependent variable also increases. Negative coefficients shows that as the independent variable increases the dependent variable decreases."
   ]
  },
  {
   "cell_type": "code",
   "execution_count": 28,
   "metadata": {},
   "outputs": [
    {
     "data": {
      "text/plain": [
       "68.63028215382269"
      ]
     },
     "execution_count": 28,
     "metadata": {},
     "output_type": "execute_result"
    }
   ],
   "source": [
    "#finding the intercept\n",
    "regressor.intercept_"
   ]
  },
  {
   "cell_type": "code",
   "execution_count": 29,
   "metadata": {},
   "outputs": [
    {
     "name": "stdout",
     "output_type": "stream",
     "text": [
      "7.729000096898106\n"
     ]
    }
   ],
   "source": [
    "#checking the mean square value\n",
    "mse = mean_squared_error(y_test,y_predict)\n",
    "print(mse)"
   ]
  },
  {
   "cell_type": "code",
   "execution_count": 30,
   "metadata": {},
   "outputs": [
    {
     "name": "stdout",
     "output_type": "stream",
     "text": [
      "RMSE: \n",
      " 2.780107929001697\n"
     ]
    }
   ],
   "source": [
    "#RMSE\n",
    "print('RMSE: \\n', \n",
    "      np.sqrt(mean_squared_error(y_test,y_predict)))"
   ]
  },
  {
   "cell_type": "code",
   "execution_count": 31,
   "metadata": {},
   "outputs": [
    {
     "data": {
      "image/png": "[encoded data removed]",
      "text/plain": [
       "<matplotlib.figure.Figure at 0x21f4af527f0>"
      ]
     },
     "metadata": {},
     "output_type": "display_data"
    }
   ],
   "source": [
    "fig, ax = plt.subplots()\n",
    "ax.scatter(y_test, y_predict)\n",
    "line = mlines.Line2D([0, 1], [0, 1], color='red')\n",
    "transform = ax.transAxes\n",
    "line.set_transform(transform)\n",
    "ax.add_line(line)\n",
    "plt.xlabel('Actual Overall Rating')\n",
    "plt.ylabel('Predicted Overall Rating')\n",
    "plt.title('Actual vs Predicted Overall rating')\n",
    "plt.show()"
   ]
  },
  {
   "cell_type": "code",
   "execution_count": 32,
   "metadata": {},
   "outputs": [
    {
     "name": "stdout",
     "output_type": "stream",
     "text": [
      "84.16945040119876 %\n"
     ]
    }
   ],
   "source": [
    "#accuracy of the model\n",
    "score = regressor.score(X_test,y_test)*100\n",
    "print(score, '%')"
   ]
  },
  {
   "cell_type": "code",
   "execution_count": 33,
   "metadata": {},
   "outputs": [
    {
     "data": {
      "image/png": "[encoded data removed]",
      "text/plain": [
       "<matplotlib.figure.Figure at 0x21f4cd37128>"
      ]
     },
     "metadata": {},
     "output_type": "display_data"
    }
   ],
   "source": [
    "#plot\n",
    "plt.scatter(regressor.predict(X_train),regressor.predict(X_train)-y_train, c='b', s=40,alpha=0.5)\n",
    "plt.scatter(regressor.predict(X_test),regressor.predict(X_test)-y_test, c='g',s=40)\n",
    "plt.hlines(y=0,xmin=0,xmax=120)        #horizontal line\n",
    "plt.show()"
   ]
  },
  {
   "cell_type": "code",
   "execution_count": 34,
   "metadata": {},
   "outputs": [],
   "source": [
    "#Building the optimal model using Backward Elimination \n",
    "import statsmodels.formula.api as sm\n",
    "X=np.append(arr=np.ones((X.shape[0],1)).astype(int),values=X,axis=1)"
   ]
  },
  {
   "cell_type": "code",
   "execution_count": 35,
   "metadata": {},
   "outputs": [],
   "source": [
    "X_opt = X"
   ]
  },
  {
   "cell_type": "code",
   "execution_count": 36,
   "metadata": {},
   "outputs": [
    {
     "data": {
      "text/html": [
       "<table class=\"simpletable\">\n",
       "<caption>OLS Regression Results</caption>\n",
       "<tr>\n",
       "  <th>Dep. Variable:</th>     <td>overall_rating</td>  <th>  R-squared:         </th>  <td>   0.842</td>  \n",
       "</tr>\n",
       "<tr>\n",
       "  <th>Model:</th>                   <td>OLS</td>       <th>  Adj. R-squared:    </th>  <td>   0.842</td>  \n",
       "</tr>\n",
       "<tr>\n",
       "  <th>Method:</th>             <td>Least Squares</td>  <th>  F-statistic:       </th>  <td>2.820e+04</td> \n",
       "</tr>\n",
       "<tr>\n",
       "  <th>Date:</th>             <td>Wed, 12 Sep 2018</td> <th>  Prob (F-statistic):</th>   <td>  0.00</td>   \n",
       "</tr>\n",
       "<tr>\n",
       "  <th>Time:</th>                 <td>00:01:40</td>     <th>  Log-Likelihood:    </th> <td>-4.4136e+05</td>\n",
       "</tr>\n",
       "<tr>\n",
       "  <th>No. Observations:</th>      <td>180354</td>      <th>  AIC:               </th>  <td>8.828e+05</td> \n",
       "</tr>\n",
       "<tr>\n",
       "  <th>Df Residuals:</th>          <td>180319</td>      <th>  BIC:               </th>  <td>8.831e+05</td> \n",
       "</tr>\n",
       "<tr>\n",
       "  <th>Df Model:</th>              <td>    34</td>      <th>                     </th>      <td> </td>     \n",
       "</tr>\n",
       "<tr>\n",
       "  <th>Covariance Type:</th>      <td>nonrobust</td>    <th>                     </th>      <td> </td>     \n",
       "</tr>\n",
       "</table>\n",
       "<table class=\"simpletable\">\n",
       "<tr>\n",
       "    <td></td>       <th>coef</th>     <th>std err</th>      <th>t</th>      <th>P>|t|</th>  <th>[0.025</th>    <th>0.975]</th>  \n",
       "</tr>\n",
       "<tr>\n",
       "  <th>const</th> <td>   -3.6097</td> <td>    0.094</td> <td>  -38.285</td> <td> 0.000</td> <td>   -3.795</td> <td>   -3.425</td>\n",
       "</tr>\n",
       "<tr>\n",
       "  <th>x1</th>    <td>    0.0222</td> <td>    0.001</td> <td>   26.476</td> <td> 0.000</td> <td>    0.021</td> <td>    0.024</td>\n",
       "</tr>\n",
       "<tr>\n",
       "  <th>x2</th>    <td>    0.0117</td> <td>    0.001</td> <td>   12.651</td> <td> 0.000</td> <td>    0.010</td> <td>    0.014</td>\n",
       "</tr>\n",
       "<tr>\n",
       "  <th>x3</th>    <td>    0.0698</td> <td>    0.001</td> <td>   84.979</td> <td> 0.000</td> <td>    0.068</td> <td>    0.071</td>\n",
       "</tr>\n",
       "<tr>\n",
       "  <th>x4</th>    <td>    0.0501</td> <td>    0.001</td> <td>   36.184</td> <td> 0.000</td> <td>    0.047</td> <td>    0.053</td>\n",
       "</tr>\n",
       "<tr>\n",
       "  <th>x5</th>    <td>    0.0043</td> <td>    0.001</td> <td>    5.151</td> <td> 0.000</td> <td>    0.003</td> <td>    0.006</td>\n",
       "</tr>\n",
       "<tr>\n",
       "  <th>x6</th>    <td>   -0.0130</td> <td>    0.001</td> <td>  -11.157</td> <td> 0.000</td> <td>   -0.015</td> <td>   -0.011</td>\n",
       "</tr>\n",
       "<tr>\n",
       "  <th>x7</th>    <td>    0.0117</td> <td>    0.001</td> <td>   14.531</td> <td> 0.000</td> <td>    0.010</td> <td>    0.013</td>\n",
       "</tr>\n",
       "<tr>\n",
       "  <th>x8</th>    <td>    0.0126</td> <td>    0.001</td> <td>   17.633</td> <td> 0.000</td> <td>    0.011</td> <td>    0.014</td>\n",
       "</tr>\n",
       "<tr>\n",
       "  <th>x9</th>    <td>    0.0073</td> <td>    0.001</td> <td>    7.648</td> <td> 0.000</td> <td>    0.005</td> <td>    0.009</td>\n",
       "</tr>\n",
       "<tr>\n",
       "  <th>x10</th>   <td>    0.1349</td> <td>    0.002</td> <td>   84.652</td> <td> 0.000</td> <td>    0.132</td> <td>    0.138</td>\n",
       "</tr>\n",
       "<tr>\n",
       "  <th>x11</th>   <td>    0.0067</td> <td>    0.001</td> <td>    4.806</td> <td> 0.000</td> <td>    0.004</td> <td>    0.009</td>\n",
       "</tr>\n",
       "<tr>\n",
       "  <th>x12</th>   <td>    0.0089</td> <td>    0.001</td> <td>    6.777</td> <td> 0.000</td> <td>    0.006</td> <td>    0.011</td>\n",
       "</tr>\n",
       "<tr>\n",
       "  <th>x13</th>   <td>   -0.0086</td> <td>    0.001</td> <td>   -8.466</td> <td> 0.000</td> <td>   -0.011</td> <td>   -0.007</td>\n",
       "</tr>\n",
       "<tr>\n",
       "  <th>x14</th>   <td>    0.2103</td> <td>    0.001</td> <td>  193.160</td> <td> 0.000</td> <td>    0.208</td> <td>    0.212</td>\n",
       "</tr>\n",
       "<tr>\n",
       "  <th>x15</th>   <td>    0.0082</td> <td>    0.001</td> <td>   10.424</td> <td> 0.000</td> <td>    0.007</td> <td>    0.010</td>\n",
       "</tr>\n",
       "<tr>\n",
       "  <th>x16</th>   <td>    0.0168</td> <td>    0.001</td> <td>   19.043</td> <td> 0.000</td> <td>    0.015</td> <td>    0.019</td>\n",
       "</tr>\n",
       "<tr>\n",
       "  <th>x17</th>   <td>    0.0157</td> <td>    0.001</td> <td>   21.505</td> <td> 0.000</td> <td>    0.014</td> <td>    0.017</td>\n",
       "</tr>\n",
       "<tr>\n",
       "  <th>x18</th>   <td>   -0.0052</td> <td>    0.001</td> <td>   -6.361</td> <td> 0.000</td> <td>   -0.007</td> <td>   -0.004</td>\n",
       "</tr>\n",
       "<tr>\n",
       "  <th>x19</th>   <td>    0.0614</td> <td>    0.001</td> <td>   72.918</td> <td> 0.000</td> <td>    0.060</td> <td>    0.063</td>\n",
       "</tr>\n",
       "<tr>\n",
       "  <th>x20</th>   <td>   -0.0135</td> <td>    0.001</td> <td>  -14.691</td> <td> 0.000</td> <td>   -0.015</td> <td>   -0.012</td>\n",
       "</tr>\n",
       "<tr>\n",
       "  <th>x21</th>   <td>    0.0201</td> <td>    0.001</td> <td>   29.179</td> <td> 0.000</td> <td>    0.019</td> <td>    0.021</td>\n",
       "</tr>\n",
       "<tr>\n",
       "  <th>x22</th>   <td>    0.0126</td> <td>    0.001</td> <td>   17.049</td> <td> 0.000</td> <td>    0.011</td> <td>    0.014</td>\n",
       "</tr>\n",
       "<tr>\n",
       "  <th>x23</th>   <td>   -0.0107</td> <td>    0.001</td> <td>  -13.478</td> <td> 0.000</td> <td>   -0.012</td> <td>   -0.009</td>\n",
       "</tr>\n",
       "<tr>\n",
       "  <th>x24</th>   <td>   -0.0020</td> <td>    0.001</td> <td>   -2.324</td> <td> 0.020</td> <td>   -0.004</td> <td>   -0.000</td>\n",
       "</tr>\n",
       "<tr>\n",
       "  <th>x25</th>   <td>    0.0143</td> <td>    0.001</td> <td>   19.061</td> <td> 0.000</td> <td>    0.013</td> <td>    0.016</td>\n",
       "</tr>\n",
       "<tr>\n",
       "  <th>x26</th>   <td>    0.0325</td> <td>    0.001</td> <td>   28.820</td> <td> 0.000</td> <td>    0.030</td> <td>    0.035</td>\n",
       "</tr>\n",
       "<tr>\n",
       "  <th>x27</th>   <td>    0.0032</td> <td>    0.001</td> <td>    2.424</td> <td> 0.015</td> <td>    0.001</td> <td>    0.006</td>\n",
       "</tr>\n",
       "<tr>\n",
       "  <th>x28</th>   <td>   -0.0286</td> <td>    0.001</td> <td>  -25.856</td> <td> 0.000</td> <td>   -0.031</td> <td>   -0.026</td>\n",
       "</tr>\n",
       "<tr>\n",
       "  <th>x29</th>   <td>    0.1631</td> <td>    0.001</td> <td>  110.924</td> <td> 0.000</td> <td>    0.160</td> <td>    0.166</td>\n",
       "</tr>\n",
       "<tr>\n",
       "  <th>x30</th>   <td>    0.0335</td> <td>    0.002</td> <td>   17.383</td> <td> 0.000</td> <td>    0.030</td> <td>    0.037</td>\n",
       "</tr>\n",
       "<tr>\n",
       "  <th>x31</th>   <td>   -0.0340</td> <td>    0.001</td> <td>  -54.153</td> <td> 0.000</td> <td>   -0.035</td> <td>   -0.033</td>\n",
       "</tr>\n",
       "<tr>\n",
       "  <th>x32</th>   <td>    0.0558</td> <td>    0.002</td> <td>   29.084</td> <td> 0.000</td> <td>    0.052</td> <td>    0.060</td>\n",
       "</tr>\n",
       "<tr>\n",
       "  <th>x33</th>   <td>    0.0247</td> <td>    0.002</td> <td>   13.126</td> <td> 0.000</td> <td>    0.021</td> <td>    0.028</td>\n",
       "</tr>\n",
       "<tr>\n",
       "  <th>x34</th>   <td>    0.3779</td> <td>    0.001</td> <td>  257.813</td> <td> 0.000</td> <td>    0.375</td> <td>    0.381</td>\n",
       "</tr>\n",
       "</table>\n",
       "<table class=\"simpletable\">\n",
       "<tr>\n",
       "  <th>Omnibus:</th>       <td>7338.180</td> <th>  Durbin-Watson:     </th> <td>   0.372</td> \n",
       "</tr>\n",
       "<tr>\n",
       "  <th>Prob(Omnibus):</th>  <td> 0.000</td>  <th>  Jarque-Bera (JB):  </th> <td>16686.996</td>\n",
       "</tr>\n",
       "<tr>\n",
       "  <th>Skew:</th>           <td>-0.255</td>  <th>  Prob(JB):          </th> <td>    0.00</td> \n",
       "</tr>\n",
       "<tr>\n",
       "  <th>Kurtosis:</th>       <td> 4.400</td>  <th>  Cond. No.          </th> <td>4.66e+03</td> \n",
       "</tr>\n",
       "</table>"
      ],
      "text/plain": [
       "<class 'statsmodels.iolib.summary.Summary'>\n",
       "\"\"\"\n",
       "                            OLS Regression Results                            \n",
       "==============================================================================\n",
       "Dep. Variable:         overall_rating   R-squared:                       0.842\n",
       "Model:                            OLS   Adj. R-squared:                  0.842\n",
       "Method:                 Least Squares   F-statistic:                 2.820e+04\n",
       "Date:                Wed, 12 Sep 2018   Prob (F-statistic):               0.00\n",
       "Time:                        00:01:40   Log-Likelihood:            -4.4136e+05\n",
       "No. Observations:              180354   AIC:                         8.828e+05\n",
       "Df Residuals:                  180319   BIC:                         8.831e+05\n",
       "Df Model:                          34                                         \n",
       "Covariance Type:            nonrobust                                         \n",
       "==============================================================================\n",
       "                 coef    std err          t      P>|t|      [0.025      0.975]\n",
       "------------------------------------------------------------------------------\n",
       "const         -3.6097      0.094    -38.285      0.000      -3.795      -3.425\n",
       "x1             0.0222      0.001     26.476      0.000       0.021       0.024\n",
       "x2             0.0117      0.001     12.651      0.000       0.010       0.014\n",
       "x3             0.0698      0.001     84.979      0.000       0.068       0.071\n",
       "x4             0.0501      0.001     36.184      0.000       0.047       0.053\n",
       "x5             0.0043      0.001      5.151      0.000       0.003       0.006\n",
       "x6            -0.0130      0.001    -11.157      0.000      -0.015      -0.011\n",
       "x7             0.0117      0.001     14.531      0.000       0.010       0.013\n",
       "x8             0.0126      0.001     17.633      0.000       0.011       0.014\n",
       "x9             0.0073      0.001      7.648      0.000       0.005       0.009\n",
       "x10            0.1349      0.002     84.652      0.000       0.132       0.138\n",
       "x11            0.0067      0.001      4.806      0.000       0.004       0.009\n",
       "x12            0.0089      0.001      6.777      0.000       0.006       0.011\n",
       "x13           -0.0086      0.001     -8.466      0.000      -0.011      -0.007\n",
       "x14            0.2103      0.001    193.160      0.000       0.208       0.212\n",
       "x15            0.0082      0.001     10.424      0.000       0.007       0.010\n",
       "x16            0.0168      0.001     19.043      0.000       0.015       0.019\n",
       "x17            0.0157      0.001     21.505      0.000       0.014       0.017\n",
       "x18           -0.0052      0.001     -6.361      0.000      -0.007      -0.004\n",
       "x19            0.0614      0.001     72.918      0.000       0.060       0.063\n",
       "x20           -0.0135      0.001    -14.691      0.000      -0.015      -0.012\n",
       "x21            0.0201      0.001     29.179      0.000       0.019       0.021\n",
       "x22            0.0126      0.001     17.049      0.000       0.011       0.014\n",
       "x23           -0.0107      0.001    -13.478      0.000      -0.012      -0.009\n",
       "x24           -0.0020      0.001     -2.324      0.020      -0.004      -0.000\n",
       "x25            0.0143      0.001     19.061      0.000       0.013       0.016\n",
       "x26            0.0325      0.001     28.820      0.000       0.030       0.035\n",
       "x27            0.0032      0.001      2.424      0.015       0.001       0.006\n",
       "x28           -0.0286      0.001    -25.856      0.000      -0.031      -0.026\n",
       "x29            0.1631      0.001    110.924      0.000       0.160       0.166\n",
       "x30            0.0335      0.002     17.383      0.000       0.030       0.037\n",
       "x31           -0.0340      0.001    -54.153      0.000      -0.035      -0.033\n",
       "x32            0.0558      0.002     29.084      0.000       0.052       0.060\n",
       "x33            0.0247      0.002     13.126      0.000       0.021       0.028\n",
       "x34            0.3779      0.001    257.813      0.000       0.375       0.381\n",
       "==============================================================================\n",
       "Omnibus:                     7338.180   Durbin-Watson:                   0.372\n",
       "Prob(Omnibus):                  0.000   Jarque-Bera (JB):            16686.996\n",
       "Skew:                          -0.255   Prob(JB):                         0.00\n",
       "Kurtosis:                       4.400   Cond. No.                     4.66e+03\n",
       "==============================================================================\n",
       "\n",
       "Warnings:\n",
       "[1] Standard Errors assume that the covariance matrix of the errors is correctly specified.\n",
       "[2] The condition number is large, 4.66e+03. This might indicate that there are\n",
       "strong multicollinearity or other numerical problems.\n",
       "\"\"\""
      ]
     },
     "execution_count": 36,
     "metadata": {},
     "output_type": "execute_result"
    }
   ],
   "source": [
    "regressor_OLS=sm.OLS(endog=y,exog=X_opt).fit()\n",
    "regressor_OLS.summary()"
   ]
  },
  {
   "cell_type": "markdown",
   "metadata": {},
   "source": [
    "All the features are important when calculating the overall rating since p-value <.05 "
   ]
  },
  {
   "cell_type": "code",
   "execution_count": null,
   "metadata": {},
   "outputs": [],
   "source": []
  }
 ],
 "metadata": {
  "kernelspec": {
   "display_name": "Python 3",
   "language": "python",
   "name": "python3"
  },
  "language_info": {
   "codemirror_mode": {
    "name": "ipython",
    "version": 3
   },
   "file_extension": ".py",
   "mimetype": "text/x-python",
   "name": "python",
   "nbconvert_exporter": "python",
   "pygments_lexer": "ipython3",
   "version": "3.6.4"
  }
 },
 "nbformat": 4,
 "nbformat_minor": 2
}
